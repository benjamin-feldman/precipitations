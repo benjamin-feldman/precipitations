{
 "cells": [
  {
   "cell_type": "code",
   "execution_count": 1,
   "metadata": {},
   "outputs": [
    {
     "ename": "ModuleNotFoundError",
     "evalue": "No module named 'sklearn'",
     "output_type": "error",
     "traceback": [
      "\u001b[1;31m---------------------------------------------------------------------------\u001b[0m",
      "\u001b[1;31mModuleNotFoundError\u001b[0m                       Traceback (most recent call last)",
      "Cell \u001b[1;32mIn[1], line 1\u001b[0m\n\u001b[1;32m----> 1\u001b[0m \u001b[38;5;28;01mfrom\u001b[39;00m \u001b[38;5;21;01msklearn\u001b[39;00m\u001b[38;5;21;01m.\u001b[39;00m\u001b[38;5;21;01mcluster\u001b[39;00m \u001b[38;5;28;01mimport\u001b[39;00m KMeans\n\u001b[0;32m      2\u001b[0m \u001b[38;5;28;01mimport\u001b[39;00m \u001b[38;5;21;01mnumpy\u001b[39;00m \u001b[38;5;28;01mas\u001b[39;00m \u001b[38;5;21;01mnp\u001b[39;00m\n\u001b[0;32m      3\u001b[0m \u001b[38;5;28;01mimport\u001b[39;00m \u001b[38;5;21;01mpandas\u001b[39;00m \u001b[38;5;28;01mas\u001b[39;00m \u001b[38;5;21;01mpd\u001b[39;00m\n",
      "\u001b[1;31mModuleNotFoundError\u001b[0m: No module named 'sklearn'"
     ]
    }
   ],
   "source": [
    "from sklearn.cluster import KMeans\n",
    "import numpy as np\n",
    "import pandas as pd\n",
    "import matplotlib.pyplot as plt\n",
    "from datetime import datetime, timedelta"
   ]
  },
  {
   "cell_type": "code",
   "execution_count": null,
   "metadata": {},
   "outputs": [],
   "source": [
    "# Initialiser un DataFrame vide pour stocker les séries temporelles de chaque pixel\n",
    "# Utiliser un MultiIndex pour les dates et les heures\n",
    "all_dates = pd.date_range(start='2018-01-01', end='2018-01-20', freq='5T')\n",
    "pixels = [(x, y) for x in range(300) for y in range(300)]\n",
    "columns = pd.MultiIndex.from_tuples(pixels, names=['x', 'y'])\n",
    "\n",
    "# Créer un DataFrame vide avec les pixels comme colonnes et les dates comme index\n",
    "df_pixels = pd.DataFrame(index=all_dates, columns=columns)\n",
    "\n",
    "# Fonction pour charger les données d'un jour spécifique et les ajouter au DataFrame global\n",
    "def add_day_to_df(year, month, day, df_pixels):\n",
    "\n",
    "    path = f\"./datatest/\"\n",
    "    file = f'RR_IDF300x300_{year:04d}{month:02d}{day:02d}.npy'\n",
    "    file_path = path + file\n",
    "    try:\n",
    "        RR = np.load(file_path) / 100.0\n",
    "\n",
    "        RR[RR < 0] = np.nan  # Remplacer les valeurs non définies\n",
    "    except FileNotFoundError:\n",
    "        print(f\"File not found: {file_path}\")\n",
    "        return df_pixels  # Retourner le DataFrame inchangé si le fichier n'existe pas\n",
    "\n",
    "    # Pour chaque pixel, ajouter ses valeurs à la série temporelle correspondante\n",
    "    for x in range(300):\n",
    "        for y in range(300):\n",
    "            start_datetime = datetime(year, month, day)\n",
    "            end_datetime = start_datetime + timedelta(days=1)\n",
    "            time_range = pd.date_range(start=start_datetime, end=end_datetime, closed='left', freq='5T')\n",
    "\n",
    "            # S'assurer que l'index temporel correspond au nombre de mesures\n",
    "            if len(time_range) == RR.shape[0]:\n",
    "                df_pixels.loc[time_range, (x, y)] = RR[:, x, y]\n",
    "\n",
    "    return df_pixels\n",
    "\n",
    "# Exemple d'ajout des données d'un jour spécifique\n",
    "# df_pixels = add_day_to_df(2018, 12, 3, df_pixels)\n",
    "\n",
    "# Pour traiter toute l'année, itérer sur chaque jour et ajouter les données\n",
    "# Note : Cela peut prendre du temps en fonction de la taille des données et des performances de l'ordinateur\n",
    "\n",
    "for month in range(1, 2):\n",
    "    for day in range(1, 21):\n",
    "        try:\n",
    "            df_pixels = add_day_to_df(2018, month, day, df_pixels)\n",
    "        except ValueError:  # Si la date n'est pas valide (ex : 30 février)\n",
    "            continue"
   ]
  },
  {
   "cell_type": "code",
   "execution_count": null,
   "metadata": {},
   "outputs": [],
   "source": [
    "def clustering(Dataset,k):\n",
    "    # Initialiser et entraîner le modèle K-Means\n",
    "    kmeans = KMeans(n_clusters=k, random_state=0)\n",
    "    kmeans.fit(Dataset)\n",
    "\n",
    "    # Obtenir les centres des clusters\n",
    "    centers = kmeans.cluster_centers_\n",
    "    print(\"Centres des clusters:\")\n",
    "    print(centers)\n",
    "\n",
    "    # Obtenir les étiquettes des clusters pour chaque point\n",
    "    labels = kmeans.labels_\n",
    "    print(\"\\nÉtiquettes des clusters:\")\n",
    "    print(labels)\n"
   ]
  },
  {
   "cell_type": "code",
   "execution_count": null,
   "metadata": {},
   "outputs": [],
   "source": [
    "clustering(df_pixels,5)"
   ]
  }
 ],
 "metadata": {
  "kernelspec": {
   "display_name": "Python 3",
   "language": "python",
   "name": "python3"
  },
  "language_info": {
   "codemirror_mode": {
    "name": "ipython",
    "version": 3
   },
   "file_extension": ".py",
   "mimetype": "text/x-python",
   "name": "python",
   "nbconvert_exporter": "python",
   "pygments_lexer": "ipython3",
   "version": "3.12.0"
  }
 },
 "nbformat": 4,
 "nbformat_minor": 2
}
