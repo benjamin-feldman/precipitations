{
 "cells": [
  {
   "cell_type": "code",
   "execution_count": 1,
   "metadata": {},
   "outputs": [
    {
     "name": "stderr",
     "output_type": "stream",
     "text": [
      "C:\\Users\\dylan\\AppData\\Local\\Temp\\ipykernel_20836\\1930607324.py:2: DeprecationWarning: \n",
      "Pyarrow will become a required dependency of pandas in the next major release of pandas (pandas 3.0),\n",
      "(to allow more performant data types, such as the Arrow string type, and better interoperability with other libraries)\n",
      "but was not found to be installed on your system.\n",
      "If this would cause problems for you,\n",
      "please provide us feedback at https://github.com/pandas-dev/pandas/issues/54466\n",
      "        \n",
      "  import pandas as pd\n"
     ]
    }
   ],
   "source": [
    "import numpy as np\n",
    "import pandas as pd\n",
    "import zipfile\n",
    "import matplotlib.pyplot as plt\n",
    "import seaborn as sns\n",
    "import io\n",
    "import os\n",
    "import random as rd\n",
    "from scipy.optimize import minimize\n",
    "from matplotlib.animation import FuncAnimation\n",
    "from IPython.display import HTML\n",
    "\n"
   ]
  },
  {
   "cell_type": "markdown",
   "metadata": {},
   "source": [
    "Première phase :\n",
    "    Recherche des outliers par plot de données"
   ]
  },
  {
   "cell_type": "code",
   "execution_count": 2,
   "metadata": {},
   "outputs": [],
   "source": [
    "#Utilisation des données téléchargées\n",
    "#Récupération des indices des données manquantes\n",
    "n = 10\n",
    "def create_data_array(directory) :\n",
    "    datalist = []\n",
    "    for i in range(n):\n",
    "        filename = os.listdir(directory)[i]\n",
    "        if filename.endswith(\".npy\"):\n",
    "            data_day = np.load(directory + '/' + filename)\n",
    "        datalist.append(data_day)\n",
    "    data_raw = np.concatenate(datalist,axis=0)\n",
    "    return data_raw\n",
    "\n",
    "\n",
    "def grad_horizontal(A):\n",
    "    return A[:,1:,:]-A[:,:-1,:]\n",
    "\n",
    "def grad_vertical(A):\n",
    "    return A[:,:,1:]-A[:,:,:-1]\n",
    "\n"
   ]
  },
  {
   "cell_type": "code",
   "execution_count": 3,
   "metadata": {},
   "outputs": [],
   "source": [
    "data_raw = create_data_array(r'datatest')\n",
    "# gradh=grad_horizontal(data_raw)\n",
    "# gradv=grad_vertical(data_raw)"
   ]
  },
  {
   "cell_type": "code",
   "execution_count": null,
   "metadata": {},
   "outputs": [],
   "source": [
    "#Ploting the accumulations for 30 minutes :\n",
    "def accumulation_30min(data):\n",
    "    return np.array([np.sum(data[6*t:6*t+6,:,:],axis=0) for t in range(len(data)//6)])"
   ]
  },
  {
   "cell_type": "code",
   "execution_count": null,
   "metadata": {},
   "outputs": [],
   "source": [
    "data_30_min = accumulation_30min(data_raw)\n",
    "\n",
    "plt.matshow(data_30_min[0])\n",
    "plt.colorbar()\n",
    "plt.legend()"
   ]
  },
  {
   "cell_type": "code",
   "execution_count": null,
   "metadata": {},
   "outputs": [],
   "source": [
    "data_accumulated_full = np.sum(data_raw,axis=0)\n",
    "\n",
    "plt.matshow(data_accumulated_full)\n",
    "plt.colorbar()\n",
    "plt.legend()\n",
    "\n"
   ]
  },
  {
   "cell_type": "code",
   "execution_count": null,
   "metadata": {},
   "outputs": [],
   "source": [
    "# On zoom sur certaines des valeurs abhérantes\n",
    "\n",
    "data_part1 = data_accumulated_full[100:150,:50]\n",
    "data_part2 = data_accumulated_full[200:250,:50]\n",
    "\n",
    "plt.matshow(data_part1)\n",
    "plt.matshow(data_part2)\n",
    "plt.colorbar()\n",
    "plt.legend()\n"
   ]
  },
  {
   "cell_type": "code",
   "execution_count": null,
   "metadata": {},
   "outputs": [],
   "source": [
    "plt.plot(data_part1[:,39])\n",
    "plt.plot(data_part2[41,:])\n",
    "plt.legend()\n",
    "plt.show()\n"
   ]
  },
  {
   "cell_type": "code",
   "execution_count": null,
   "metadata": {},
   "outputs": [],
   "source": [
    "List=np.argwhere(data_accumulated_full>225000)\n",
    "print(List)"
   ]
  },
  {
   "cell_type": "code",
   "execution_count": null,
   "metadata": {},
   "outputs": [],
   "source": []
  },
  {
   "cell_type": "code",
   "execution_count": 6,
   "metadata": {},
   "outputs": [
    {
     "data": {
      "image/png": "[encoded data removed]",
      "text/plain": [
       "<Figure size 640x480 with 1 Axes>"
      ]
     },
     "metadata": {},
     "output_type": "display_data"
    }
   ],
   "source": [
    "data_accumulated_full_values = np.cumsum(data_raw, axis=0)\n",
    "\n",
    "plt.plot(data_accumulated_full_values[:,126,39],label='outlier')\n",
    "plt.plot(data_accumulated_full_values[:,100,100],label='valeur correcte')\n",
    "plt.legend()\n",
    "plt.show()"
   ]
  },
  {
   "cell_type": "code",
   "execution_count": null,
   "metadata": {},
   "outputs": [],
   "source": []
  },
  {
   "cell_type": "code",
   "execution_count": null,
   "metadata": {},
   "outputs": [],
   "source": [
    "np.shape(data_raw)"
   ]
  },
  {
   "cell_type": "code",
   "execution_count": null,
   "metadata": {},
   "outputs": [],
   "source": [
    "np.argwhere(data_raw[:,126,39]>5000)"
   ]
  },
  {
   "cell_type": "code",
   "execution_count": null,
   "metadata": {},
   "outputs": [],
   "source": [
    "plt.matshow(data_raw[2584,:,:])\n",
    "plt.colorbar()\n",
    "plt.legend()"
   ]
  },
  {
   "cell_type": "code",
   "execution_count": null,
   "metadata": {},
   "outputs": [],
   "source": [
    "A_test = data_raw[2584,:,:]\n",
    "A_non_zero = A_test[A_test>0]\n",
    "print(A_non_zero)\n",
    "mu = np.mean(A_non_zero)\n",
    "sigma =np.std(A_non_zero)\n",
    "print(mu,sigma)\n",
    "Q = np.percentile(A_test,99.995)\n",
    "print(Q)"
   ]
  },
  {
   "cell_type": "code",
   "execution_count": null,
   "metadata": {},
   "outputs": [],
   "source": [
    "plt.plot(A_test)\n",
    "plt.show()"
   ]
  },
  {
   "cell_type": "code",
   "execution_count": null,
   "metadata": {},
   "outputs": [],
   "source": [
    "percentile_99_995 = np.array([np.percentile(data_raw[t,:,:], 99.995) for t in range(np.shape(data_raw)[0])])\n",
    "\n",
    "First_List = []\n",
    "\n",
    "for t in range(len(percentile_99_995)):\n",
    "    indices = np.argwhere(data_raw[t,:,:] >= percentile_99_995[t])\n",
    "    for q in indices:\n",
    "        First_List.append([t, q[0], q[1]])\n",
    "\n",
    "print(First_List)\n"
   ]
  },
  {
   "cell_type": "markdown",
   "metadata": {},
   "source": [
    "Deuxième phase :\n",
    "    Automatisation du processus"
   ]
  },
  {
   "cell_type": "code",
   "execution_count": null,
   "metadata": {},
   "outputs": [],
   "source": []
  },
  {
   "cell_type": "code",
   "execution_count": null,
   "metadata": {},
   "outputs": [],
   "source": [
    "zip_file_path = \"data/2018.zip\"\n",
    "\n",
    "with zipfile.ZipFile(zip_file_path, \"r\") as zip_ref:\n",
    "        all_files = zip_ref.namelist()\n",
    "        for file in all_files:\n",
    "            if file.endswith(\".npy\"):\n",
    "                with zip_ref.open(file) as file_in_zip:\n",
    "                    npy_bytes = file_in_zip.read()\n",
    "                    npy_file_like = io.BytesIO(npy_bytes)\n",
    "                    npy_array = np.load(npy_file_like)\n",
    "                    print(npy_array)\n",
    "                    npy_file_like.close()\n"
   ]
  }
 ],
 "metadata": {
  "kernelspec": {
   "display_name": "Python 3",
   "language": "python",
   "name": "python3"
  },
  "language_info": {
   "codemirror_mode": {
    "name": "ipython",
    "version": 3
   },
   "file_extension": ".py",
   "mimetype": "text/x-python",
   "name": "python",
   "nbconvert_exporter": "python",
   "pygments_lexer": "ipython3",
   "version": "3.12.0"
  }
 },
 "nbformat": 4,
 "nbformat_minor": 2
}
