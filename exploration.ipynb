{
 "cells": [
  {
   "cell_type": "code",
   "execution_count": 1,
   "metadata": {},
   "outputs": [],
   "source": [
    "import matplotlib.pyplot as plt\n",
    "import numpy as np\n",
    "\n",
    "def precipitations(year,month,day):                    # Cette fonction permet simplement de représenter l'évolutiond es précipitations en Ile-de-France sur une journée.\n",
    "    path = 'data/'+'{:04d}/'.format(year)\n",
    "    file = 'RR_IDF300x300_{:04d}{:02d}{:02d}.npy'.format(year,month,day)\n",
    "    file = path + file\n",
    "    RR = np.load(file)/100.0\n",
    "    RR[RR < 0]=np.nan\n",
    "    plt.figure()\n",
    "    plt.ion()        \n",
    "    for i in range (288):\n",
    "        plt.imshow(RR[i,:,:], cmap='Blues')\n",
    "        #plt.show(block=True)\n",
    "        #cv2.namedWindow('image', cv2.WINDOW_NORMAL)\n",
    "        #cv2.imshow('image', RR[i,:,:], cmap='Blues')\n",
    "        plt.pause(0.2)\n",
    "        plt.clf()\n",
    "\n",
    "def segmentation_evenements(year,month,day):        # Cette fonction permet de séparer les différents événements de précipitations.\n",
    "    path = 'data/'+'{:04d}/'.format(year)\n",
    "    file = 'RR_IDF300x300_{:04d}{:02d}{:02d}.npy'.format(year,month,day)\n",
    "    file = path + file\n",
    "    RR = np.load(file)/100.0\n",
    "    RR[RR < 0]=np.nan\n",
    "    RR_seg = np.zeros([288,300,300])        # RR_seg sera une carte simplifiée indiquant simplement où un événement de précpitation est en cours. C'est un tableau binaire.\n",
    "    for i in range (300):\n",
    "        for j in range (300):\n",
    "            t = 0\n",
    "            t1 = 0\n",
    "            while (t<288):\n",
    "                if (RR[t,i,j]>0):\n",
    "                    RR_seg[t,i,j] = 1\n",
    "                    t1 = 0      # Compteur du temps à partir du dernier instant de pluie. S'il atteint 6, alors l'événement de pluie est terminé.\n",
    "                    t = t+1\n",
    "                    t0 = t      # t0 permet de garder en mémoire le premier instant de l'acalmie.\n",
    "                    while (t<288 and (RR[t,i,j]==np.nan) and t1<6):      # Deux averses au même endroit font partie du même événement pluvieux si elles adviennent à moins de 30 min d'intervalle.\n",
    "                        t1 = t1+1\n",
    "                        t = t+1\n",
    "                    if (t<288 and t1<6):\n",
    "                        for t2 in range (t0,t+1):\n",
    "                            RR_seg[t2,i,j] = 1\n",
    "                else :\n",
    "                    t = t+1\n",
    "    return RR_seg"
   ]
  },
  {
   "cell_type": "code",
   "execution_count": 15,
   "metadata": {},
   "outputs": [],
   "source": [
    "# each (i, j) in a matrix is either 1 if an event is in progress, or 0 if there is no event. We want to compute the length of events over the whole year.\n",
    "# the result is a matrix of the same size as the input, where each (i, j) is a list of tuples (time of event, length of event). Each tuple represent an event at (i,j)\n",
    "def event_length(year, month, day):\n",
    "    RR_seg = segmentation_evenements(year, month, day)\n",
    "    length = np.zeros([300,300], dtype=object)\n",
    "    for i in range(300):\n",
    "        for j in range(300):\n",
    "            t = 0\n",
    "            events = []\n",
    "            while t < 288:\n",
    "                if RR_seg[t, i, j] == 1:\n",
    "                    t0 = t\n",
    "                    while t < 288 and RR_seg[t, i, j] == 1:\n",
    "                        t += 1\n",
    "                    events.append((t0, t - t0))\n",
    "                t += 1\n",
    "            length[i, j] = events\n",
    "    return length\n",
    "\n",
    "\n",
    "i, j = 100, 150\n",
    "events = event_length(2018, 1, 1)[i, j]\n"
   ]
  },
  {
   "cell_type": "code",
   "execution_count": 21,
   "metadata": {},
   "outputs": [],
   "source": [
    "# for a given event, we want to compute the maximum intensity, the mean intensity, its variance, and the percentage of null values\n",
    "def event_stats(year, month, day, i, j, start_time, duration):\n",
    "    path = 'data/'+'{:04d}/'.format(year)\n",
    "    file = 'RR_IDF300x300_{:04d}{:02d}{:02d}.npy'.format(year,month,day)\n",
    "    file = path + file\n",
    "    RR = np.load(file)/100.0\n",
    "    RR[RR < 0]=np.nan\n",
    "    RR_event = RR[start_time:start_time+duration, i, j]\n",
    "    RR_event = RR_event[~np.isnan(RR_event)]\n",
    "    print(RR_event)\n",
    "    return (duration, np.max(RR_event), np.mean(RR_event), np.var(RR_event), 1 - np.count_nonzero(RR_event) / duration)"
   ]
  },
  {
   "cell_type": "code",
   "execution_count": 22,
   "metadata": {},
   "outputs": [
    {
     "name": "stdout",
     "output_type": "stream",
     "text": [
      "[ 0.36  0.84  0.6   1.79  1.68  3.36  3.36  4.68  2.88  2.4   6.48 10.32\n",
      "  4.8   8.76  5.16  4.92  8.04  9.72  2.28  3.59  2.76  4.08  6.84  4.8\n",
      "  2.4   0.96  0.24  1.32  1.08  0.  ]\n",
      "(30, 10.32, 3.6833333333333327, 7.959862222222223, 0.033333333333333326)\n",
      "[0.24 0.72 0.72 1.08 1.08 0.  ]\n",
      "(6, 1.08, 0.64, 0.1616, 0.16666666666666663)\n",
      "[0.36 2.16 1.56 0.36 0.36 0.36 0.24 0.  ]\n",
      "(8, 2.16, 0.6749999999999999, 0.5037750000000001, 0.125)\n",
      "[1.92 0.  ]\n",
      "(2, 1.92, 0.96, 0.9216, 0.5)\n",
      "[0.24 0.96 0.84 1.44 1.08 2.04 0.96 0.  ]\n",
      "(8, 2.04, 0.945, 0.35797500000000004, 0.125)\n",
      "[0.24 0.24 0.  ]\n",
      "(3, 0.24, 0.16, 0.012799999999999999, 0.33333333333333337)\n",
      "[0.24 0.  ]\n",
      "(2, 0.24, 0.12, 0.0144, 0.5)\n"
     ]
    }
   ],
   "source": [
    "for e in events:\n",
    "    start_time = e[0]\n",
    "    duration = e[1]\n",
    "    print(event_stats(2018, 1, 1, i, j, start_time, duration))"
   ]
  }
 ],
 "metadata": {
  "kernelspec": {
   "display_name": "datascience",
   "language": "python",
   "name": "python3"
  },
  "language_info": {
   "codemirror_mode": {
    "name": "ipython",
    "version": 3
   },
   "file_extension": ".py",
   "mimetype": "text/x-python",
   "name": "python",
   "nbconvert_exporter": "python",
   "pygments_lexer": "ipython3",
   "version": "3.10.13"
  }
 },
 "nbformat": 4,
 "nbformat_minor": 2
}
